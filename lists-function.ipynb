{
 "cells": [
  {
   "cell_type": "markdown",
   "metadata": {},
   "source": [
    "7.4 make a list called things with these three strings as elements: \"mozzarella\",\"cinderella\",\"salmonella\"."
   ]
  },
  {
   "cell_type": "code",
   "execution_count": 1,
   "metadata": {},
   "outputs": [],
   "source": [
    "things = [\"mozzeralla\", \"cinderella\",\"salmonella\"]"
   ]
  },
  {
   "cell_type": "markdown",
   "metadata": {},
   "source": [
    "7.5 Capitalize the element in things that refers to a person and then print the list. did it change the element in the list?\n",
    "yes, it did change the element in the list which turn it into a capital letter."
   ]
  },
  {
   "cell_type": "code",
   "execution_count": 4,
   "metadata": {},
   "outputs": [
    {
     "name": "stdout",
     "output_type": "stream",
     "text": [
      "Cinderella\n"
     ]
    }
   ],
   "source": [
    "things =[\"mozzarella\", \"cinderella\", \"salmonella\"]\n",
    "things[1] = things[1].capitalize()\n",
    "print(things[1])"
   ]
  },
  {
   "cell_type": "markdown",
   "metadata": {},
   "source": [
    "7.6 make the cheesy element of thing all uppercase and then print the list."
   ]
  },
  {
   "cell_type": "code",
   "execution_count": 6,
   "metadata": {},
   "outputs": [
    {
     "name": "stdout",
     "output_type": "stream",
     "text": [
      "MOZZARELLA\n"
     ]
    }
   ],
   "source": [
    "things =[\"mozzarella\", \"cinderella\", \"salmonella\"]\n",
    "element = things[0].upper()\n",
    "print(element)"
   ]
  },
  {
   "cell_type": "markdown",
   "metadata": {},
   "source": [
    "7.7 Delete the disease element from things, collect your Nobel Prize, and print the list."
   ]
  },
  {
   "cell_type": "code",
   "execution_count": 7,
   "metadata": {},
   "outputs": [
    {
     "name": "stdout",
     "output_type": "stream",
     "text": [
      "['mozzarella', 'cinderella']\n"
     ]
    }
   ],
   "source": [
    "things =[\"mozzarella\", \"cinderella\", \"salmonella\"]\n",
    "things.remove(things[2])\n",
    "print(things)"
   ]
  },
  {
   "cell_type": "markdown",
   "metadata": {},
   "source": [
    "9.1 Define a function called good() that returns the following list: ['Harry', 'Ron','Hermione']"
   ]
  },
  {
   "cell_type": "code",
   "execution_count": 9,
   "metadata": {},
   "outputs": [
    {
     "name": "stdout",
     "output_type": "stream",
     "text": [
      "['Harry', 'Ron', 'Hermione']\n"
     ]
    }
   ],
   "source": [
    "def good():\n",
    "    return [\"Harry\", \"Ron\", \"Hermione\"]\n",
    "print(good())"
   ]
  },
  {
   "cell_type": "markdown",
   "metadata": {},
   "source": [
    "9.2 Define a generator function called get_odds() that returns the odd numbers from range(10). use a for loop to find and print the third value r"
   ]
  },
  {
   "cell_type": "code",
   "execution_count": 10,
   "metadata": {},
   "outputs": [
    {
     "name": "stdout",
     "output_type": "stream",
     "text": [
      "5\n"
     ]
    }
   ],
   "source": [
    "def get_odds():\n",
    "    for number in range(10):\n",
    "        if number % 2 != 0:\n",
    "            yield number\n",
    "count = 0\n",
    "for r in get_odds():\n",
    "    count += 1\n",
    "    if count == 3:\n",
    "        print(r)\n",
    "        break"
   ]
  }
 ],
 "metadata": {
  "kernelspec": {
   "display_name": "Python 3",
   "language": "python",
   "name": "python3"
  },
  "language_info": {
   "codemirror_mode": {
    "name": "ipython",
    "version": 3
   },
   "file_extension": ".py",
   "mimetype": "text/x-python",
   "name": "python",
   "nbconvert_exporter": "python",
   "pygments_lexer": "ipython3",
   "version": "3.13.5"
  }
 },
 "nbformat": 4,
 "nbformat_minor": 2
}
